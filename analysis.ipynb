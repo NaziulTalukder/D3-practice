{
 "cells": [
  {
   "cell_type": "code",
   "execution_count": 1,
   "id": "090446ac",
   "metadata": {},
   "outputs": [],
   "source": [
    "import pandas as pd\n",
    "import numpy as np\n",
    "import math"
   ]
  },
  {
   "cell_type": "code",
   "execution_count": 2,
   "id": "e26e4379",
   "metadata": {},
   "outputs": [],
   "source": [
    "df = pd.read_csv('average-rating.csv')"
   ]
  },
  {
   "cell_type": "code",
   "execution_count": 3,
   "id": "5cfbeb33",
   "metadata": {},
   "outputs": [
    {
     "data": {
      "text/html": [
       "<div>\n",
       "<style scoped>\n",
       "    .dataframe tbody tr th:only-of-type {\n",
       "        vertical-align: middle;\n",
       "    }\n",
       "\n",
       "    .dataframe tbody tr th {\n",
       "        vertical-align: top;\n",
       "    }\n",
       "\n",
       "    .dataframe thead th {\n",
       "        text-align: right;\n",
       "    }\n",
       "</style>\n",
       "<table border=\"1\" class=\"dataframe\">\n",
       "  <thead>\n",
       "    <tr style=\"text-align: right;\">\n",
       "      <th></th>\n",
       "      <th>name</th>\n",
       "      <th>year</th>\n",
       "      <th>average_rating</th>\n",
       "      <th>users_rated</th>\n",
       "    </tr>\n",
       "  </thead>\n",
       "  <tbody>\n",
       "    <tr>\n",
       "      <th>0</th>\n",
       "      <td>Codenames</td>\n",
       "      <td>2015</td>\n",
       "      <td>7.71148</td>\n",
       "      <td>51209</td>\n",
       "    </tr>\n",
       "    <tr>\n",
       "      <th>1</th>\n",
       "      <td>King of Tokyo</td>\n",
       "      <td>2011</td>\n",
       "      <td>7.23048</td>\n",
       "      <td>48611</td>\n",
       "    </tr>\n",
       "    <tr>\n",
       "      <th>2</th>\n",
       "      <td>Love Letter</td>\n",
       "      <td>2012</td>\n",
       "      <td>7.25253</td>\n",
       "      <td>47014</td>\n",
       "    </tr>\n",
       "    <tr>\n",
       "      <th>3</th>\n",
       "      <td>Splendor</td>\n",
       "      <td>2014</td>\n",
       "      <td>7.47331</td>\n",
       "      <td>45239</td>\n",
       "    </tr>\n",
       "    <tr>\n",
       "      <th>4</th>\n",
       "      <td>7 Wonders Duel</td>\n",
       "      <td>2015</td>\n",
       "      <td>8.12219</td>\n",
       "      <td>40971</td>\n",
       "    </tr>\n",
       "    <tr>\n",
       "      <th>...</th>\n",
       "      <td>...</td>\n",
       "      <td>...</td>\n",
       "      <td>...</td>\n",
       "      <td>...</td>\n",
       "    </tr>\n",
       "    <tr>\n",
       "      <th>7480</th>\n",
       "      <td>Shadow Master</td>\n",
       "      <td>2016</td>\n",
       "      <td>5.96452</td>\n",
       "      <td>31</td>\n",
       "    </tr>\n",
       "    <tr>\n",
       "      <th>7481</th>\n",
       "      <td>40</td>\n",
       "      <td>2018</td>\n",
       "      <td>7.17714</td>\n",
       "      <td>35</td>\n",
       "    </tr>\n",
       "    <tr>\n",
       "      <th>7482</th>\n",
       "      <td>Title Bout 2</td>\n",
       "      <td>2017</td>\n",
       "      <td>8.86571</td>\n",
       "      <td>35</td>\n",
       "    </tr>\n",
       "    <tr>\n",
       "      <th>7483</th>\n",
       "      <td>Rattaneer</td>\n",
       "      <td>2017</td>\n",
       "      <td>6.65903</td>\n",
       "      <td>31</td>\n",
       "    </tr>\n",
       "    <tr>\n",
       "      <th>7484</th>\n",
       "      <td>Mit Mist und TÃ¼cke</td>\n",
       "      <td>2014</td>\n",
       "      <td>5.93333</td>\n",
       "      <td>30</td>\n",
       "    </tr>\n",
       "  </tbody>\n",
       "</table>\n",
       "<p>7485 rows × 4 columns</p>\n",
       "</div>"
      ],
      "text/plain": [
       "                     name  year  average_rating  users_rated\n",
       "0               Codenames  2015         7.71148        51209\n",
       "1           King of Tokyo  2011         7.23048        48611\n",
       "2             Love Letter  2012         7.25253        47014\n",
       "3                Splendor  2014         7.47331        45239\n",
       "4          7 Wonders Duel  2015         8.12219        40971\n",
       "...                   ...   ...             ...          ...\n",
       "7480        Shadow Master  2016         5.96452           31\n",
       "7481                   40  2018         7.17714           35\n",
       "7482         Title Bout 2  2017         8.86571           35\n",
       "7483            Rattaneer  2017         6.65903           31\n",
       "7484  Mit Mist und TÃ¼cke  2014         5.93333           30\n",
       "\n",
       "[7485 rows x 4 columns]"
      ]
     },
     "execution_count": 3,
     "metadata": {},
     "output_type": "execute_result"
    }
   ],
   "source": [
    "df"
   ]
  },
  {
   "cell_type": "code",
   "execution_count": 4,
   "id": "b7143d47",
   "metadata": {},
   "outputs": [],
   "source": [
    "df['average_rating'] = df.average_rating.apply(np.floor)"
   ]
  },
  {
   "cell_type": "code",
   "execution_count": 5,
   "id": "d101e554",
   "metadata": {},
   "outputs": [
    {
     "data": {
      "text/html": [
       "<div>\n",
       "<style scoped>\n",
       "    .dataframe tbody tr th:only-of-type {\n",
       "        vertical-align: middle;\n",
       "    }\n",
       "\n",
       "    .dataframe tbody tr th {\n",
       "        vertical-align: top;\n",
       "    }\n",
       "\n",
       "    .dataframe thead th {\n",
       "        text-align: right;\n",
       "    }\n",
       "</style>\n",
       "<table border=\"1\" class=\"dataframe\">\n",
       "  <thead>\n",
       "    <tr style=\"text-align: right;\">\n",
       "      <th></th>\n",
       "      <th>name</th>\n",
       "      <th>year</th>\n",
       "      <th>average_rating</th>\n",
       "      <th>users_rated</th>\n",
       "    </tr>\n",
       "  </thead>\n",
       "  <tbody>\n",
       "    <tr>\n",
       "      <th>0</th>\n",
       "      <td>Codenames</td>\n",
       "      <td>2015</td>\n",
       "      <td>7.0</td>\n",
       "      <td>51209</td>\n",
       "    </tr>\n",
       "    <tr>\n",
       "      <th>1</th>\n",
       "      <td>King of Tokyo</td>\n",
       "      <td>2011</td>\n",
       "      <td>7.0</td>\n",
       "      <td>48611</td>\n",
       "    </tr>\n",
       "    <tr>\n",
       "      <th>2</th>\n",
       "      <td>Love Letter</td>\n",
       "      <td>2012</td>\n",
       "      <td>7.0</td>\n",
       "      <td>47014</td>\n",
       "    </tr>\n",
       "    <tr>\n",
       "      <th>3</th>\n",
       "      <td>Splendor</td>\n",
       "      <td>2014</td>\n",
       "      <td>7.0</td>\n",
       "      <td>45239</td>\n",
       "    </tr>\n",
       "    <tr>\n",
       "      <th>4</th>\n",
       "      <td>7 Wonders Duel</td>\n",
       "      <td>2015</td>\n",
       "      <td>8.0</td>\n",
       "      <td>40971</td>\n",
       "    </tr>\n",
       "    <tr>\n",
       "      <th>...</th>\n",
       "      <td>...</td>\n",
       "      <td>...</td>\n",
       "      <td>...</td>\n",
       "      <td>...</td>\n",
       "    </tr>\n",
       "    <tr>\n",
       "      <th>7480</th>\n",
       "      <td>Shadow Master</td>\n",
       "      <td>2016</td>\n",
       "      <td>5.0</td>\n",
       "      <td>31</td>\n",
       "    </tr>\n",
       "    <tr>\n",
       "      <th>7481</th>\n",
       "      <td>40</td>\n",
       "      <td>2018</td>\n",
       "      <td>7.0</td>\n",
       "      <td>35</td>\n",
       "    </tr>\n",
       "    <tr>\n",
       "      <th>7482</th>\n",
       "      <td>Title Bout 2</td>\n",
       "      <td>2017</td>\n",
       "      <td>8.0</td>\n",
       "      <td>35</td>\n",
       "    </tr>\n",
       "    <tr>\n",
       "      <th>7483</th>\n",
       "      <td>Rattaneer</td>\n",
       "      <td>2017</td>\n",
       "      <td>6.0</td>\n",
       "      <td>31</td>\n",
       "    </tr>\n",
       "    <tr>\n",
       "      <th>7484</th>\n",
       "      <td>Mit Mist und TÃ¼cke</td>\n",
       "      <td>2014</td>\n",
       "      <td>5.0</td>\n",
       "      <td>30</td>\n",
       "    </tr>\n",
       "  </tbody>\n",
       "</table>\n",
       "<p>7485 rows × 4 columns</p>\n",
       "</div>"
      ],
      "text/plain": [
       "                     name  year  average_rating  users_rated\n",
       "0               Codenames  2015             7.0        51209\n",
       "1           King of Tokyo  2011             7.0        48611\n",
       "2             Love Letter  2012             7.0        47014\n",
       "3                Splendor  2014             7.0        45239\n",
       "4          7 Wonders Duel  2015             8.0        40971\n",
       "...                   ...   ...             ...          ...\n",
       "7480        Shadow Master  2016             5.0           31\n",
       "7481                   40  2018             7.0           35\n",
       "7482         Title Bout 2  2017             8.0           35\n",
       "7483            Rattaneer  2017             6.0           31\n",
       "7484  Mit Mist und TÃ¼cke  2014             5.0           30\n",
       "\n",
       "[7485 rows x 4 columns]"
      ]
     },
     "execution_count": 5,
     "metadata": {},
     "output_type": "execute_result"
    }
   ],
   "source": [
    "df"
   ]
  },
  {
   "cell_type": "code",
   "execution_count": 19,
   "id": "46b7b886",
   "metadata": {},
   "outputs": [
    {
     "data": {
      "text/plain": [
       "name              0\n",
       "year              0\n",
       "average_rating    0\n",
       "users_rated       0\n",
       "dtype: int64"
      ]
     },
     "execution_count": 19,
     "metadata": {},
     "output_type": "execute_result"
    }
   ],
   "source": [
    "df[(df.year==2015) & (df.average_rating==9)].count()"
   ]
  },
  {
   "cell_type": "code",
   "execution_count": 7,
   "id": "29bbc969",
   "metadata": {},
   "outputs": [
    {
     "data": {
      "text/plain": [
       "2012"
      ]
     },
     "execution_count": 7,
     "metadata": {},
     "output_type": "execute_result"
    }
   ],
   "source": [
    "df.iloc[2].year"
   ]
  },
  {
   "cell_type": "code",
   "execution_count": 8,
   "id": "9b14d1d2",
   "metadata": {},
   "outputs": [
    {
     "data": {
      "text/plain": [
       "2"
      ]
     },
     "execution_count": 8,
     "metadata": {},
     "output_type": "execute_result"
    }
   ],
   "source": [
    "math.floor(2.2)"
   ]
  },
  {
   "cell_type": "code",
   "execution_count": null,
   "id": "97f3dea4",
   "metadata": {},
   "outputs": [],
   "source": []
  }
 ],
 "metadata": {
  "kernelspec": {
   "display_name": "first_env",
   "language": "python",
   "name": "first_env"
  },
  "language_info": {
   "codemirror_mode": {
    "name": "ipython",
    "version": 3
   },
   "file_extension": ".py",
   "mimetype": "text/x-python",
   "name": "python",
   "nbconvert_exporter": "python",
   "pygments_lexer": "ipython3",
   "version": "3.8.12"
  }
 },
 "nbformat": 4,
 "nbformat_minor": 5
}
